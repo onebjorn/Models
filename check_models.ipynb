{
 "cells": [
  {
   "cell_type": "code",
   "execution_count": 1,
   "id": "6d792ee1-5f50-44bf-90f7-3dbfc8efc7dd",
   "metadata": {},
   "outputs": [],
   "source": [
    "import numpy as np\n",
    "import numpy as np\n",
    "import copy\n",
    "from sklearn.datasets import make_classification\n",
    "from sklearn.model_selection import train_test_split\n",
    "from sklearn.metrics import accuracy_score, roc_auc_score\n",
    "from logistic_regression import LogisticRegression"
   ]
  },
  {
   "cell_type": "markdown",
   "id": "18c1f3ce-cd5a-4e82-a9ee-475f99c0c23e",
   "metadata": {},
   "source": [
    "## Dataset"
   ]
  },
  {
   "cell_type": "code",
   "execution_count": 36,
   "id": "ae75acc6-3493-45ab-a1d3-9a3678423cec",
   "metadata": {},
   "outputs": [],
   "source": [
    "X_data, y_data = make_classification(\n",
    "    n_samples=10000, n_features=20, \n",
    "    n_classes=2, n_informative=20, \n",
    "    n_redundant=0, random_state=42\n",
    ")\n",
    "\n",
    "X_train, X_test, Y_train, Y_test = train_test_split(X_data, y_data, test_size=0.2, random_state=42)"
   ]
  },
  {
   "cell_type": "markdown",
   "id": "27a9f02d-fb13-4ab6-938c-f403eb660287",
   "metadata": {},
   "source": [
    "## Logistic regression"
   ]
  },
  {
   "cell_type": "code",
   "execution_count": 37,
   "id": "7c7602a7-bfcc-4520-9af8-d51c685ff2f6",
   "metadata": {},
   "outputs": [
    {
     "name": "stdout",
     "output_type": "stream",
     "text": [
      "0.796\n",
      "0.878645170258791\n"
     ]
    }
   ],
   "source": [
    "from logistic_regression import LogisticRegression\n",
    "\n",
    "\n",
    "model = LogisticRegression(learning_rate=0.07, num_iterations=350)\n",
    "model.fit(X_train.T, Y_train)\n",
    "\n",
    "print(accuracy_score(Y_test, model.predict(X_test.T)[0]))\n",
    "print(roc_auc_score(Y_test, model.predict_proba(X_test.T)[0]))"
   ]
  },
  {
   "cell_type": "code",
   "execution_count": 27,
   "id": "6436fb40-585d-45b6-8f46-fb95da9d99fd",
   "metadata": {},
   "outputs": [
    {
     "name": "stdout",
     "output_type": "stream",
     "text": [
      "0.88\n",
      "0.9496359205095612\n"
     ]
    }
   ],
   "source": [
    "from sklearn.ensemble import RandomForestClassifier\n",
    "\n",
    "\n",
    "model = RandomForestClassifier(max_depth=5, n_estimators=100)\n",
    "model.fit(X_train, Y_train)\n",
    "\n",
    "print(accuracy_score(Y_test, model.predict(X_test)))\n",
    "print(roc_auc_score(Y_test, model.predict_proba(X_test)[:, 0]))"
   ]
  },
  {
   "cell_type": "markdown",
   "id": "f189c618-b56b-4e04-ae51-120e9e0271f0",
   "metadata": {},
   "source": [
    "## Gradient Boosting"
   ]
  },
  {
   "cell_type": "markdown",
   "id": "a1670192-1a88-4987-9e9c-e6feb9fdf7f8",
   "metadata": {},
   "source": [
    "### My implementation:"
   ]
  },
  {
   "cell_type": "code",
   "execution_count": 51,
   "id": "3bd22973-979d-4ac6-bfa3-214ebfe3dc36",
   "metadata": {},
   "outputs": [
    {
     "name": "stdout",
     "output_type": "stream",
     "text": [
      "0.9185\n",
      "0.9765891037174012\n"
     ]
    }
   ],
   "source": [
    "from gb import GradientBoostingClassifier\n",
    "\n",
    "model = GradientBoostingClassifier({'max_depth': 7}, learning_rate=0.075, n_iterations=140)\n",
    "model.fit(X_train, Y_train)\n",
    "\n",
    "print(accuracy_score(Y_test, model.predict(X_test)))\n",
    "print(roc_auc_score(Y_test, model.predict_proba(X_test)))"
   ]
  },
  {
   "cell_type": "code",
   "execution_count": 56,
   "id": "00d92d22-5874-471d-8578-fc8e9b89a7c2",
   "metadata": {},
   "outputs": [
    {
     "name": "stdout",
     "output_type": "stream",
     "text": [
      "0.9735\n",
      "0.9934144665717923\n"
     ]
    }
   ],
   "source": [
    "from catboost import CatBoostClassifier\n",
    "\n",
    "model = CatBoostClassifier(max_depth=7, n_estimators=130, verbose=False)\n",
    "model.fit(X_train, Y_train)\n",
    "\n",
    "print(accuracy_score(Y_test, model.predict(X_test)))\n",
    "print(1 - roc_auc_score(Y_test, model.predict_proba(X_test)[:, 0]))"
   ]
  },
  {
   "cell_type": "markdown",
   "id": "7fed56bd-fdd8-4906-b045-135ad5a2d006",
   "metadata": {},
   "source": [
    "## Neural network"
   ]
  },
  {
   "cell_type": "markdown",
   "id": "a6632a2f-c44d-4097-af2c-f37e42c753e1",
   "metadata": {},
   "source": [
    "### My implementation: 2 layers"
   ]
  },
  {
   "cell_type": "code",
   "execution_count": 55,
   "id": "f0bf2fb3-c243-4725-a332-2d41930feac4",
   "metadata": {},
   "outputs": [
    {
     "name": "stdout",
     "output_type": "stream",
     "text": [
      "Cost after iteration 0: 0.6931831619015182\n",
      "Cost after iteration 100: 0.6130861630474378\n",
      "Cost after iteration 200: 0.3879158905941546\n",
      "Cost after iteration 300: 0.29826035902218756\n",
      "Cost after iteration 400: 0.240987431803919\n",
      "Cost after iteration 500: 0.20330696565847797\n",
      "Cost after iteration 600: 0.17753493983250104\n",
      "Cost after iteration 700: 0.1596667041625434\n",
      "Cost after iteration 800: 0.14680501423758796\n",
      "Cost after iteration 900: 0.1377893892365401\n",
      "Cost after iteration 1000: 0.13119627932091665\n",
      "Cost after iteration 1100: 0.12617029106492725\n",
      "Cost after iteration 1200: 0.12220912569994452\n",
      "Cost after iteration 1300: 0.11879181246026813\n",
      "Cost after iteration 1400: 0.11602107739054084\n",
      "Cost after iteration 1500: 0.11369017851974764\n",
      "Cost after iteration 1600: 0.11166410119973033\n",
      "Cost after iteration 1700: 0.10989241968820943\n",
      "Cost after iteration 1800: 0.10829549814347639\n",
      "Cost after iteration 1900: 0.10676281638817102\n",
      "Cost after iteration 2000: 0.10543985436543445\n",
      "Cost after iteration 2100: 0.10427194049889692\n",
      "Cost after iteration 2200: 0.10324312759001009\n",
      "Cost after iteration 2300: 0.10234764268456042\n",
      "Cost after iteration 2400: 0.10153785818744408\n",
      "Cost after iteration 2500: 0.10078352870713132\n",
      "Cost after iteration 2600: 0.100072218425035\n",
      "Cost after iteration 2700: 0.09934313806315931\n",
      "Cost after iteration 2800: 0.09864317784584321\n",
      "Cost after iteration 2900: 0.09797026169742423\n",
      "Cost after iteration 3000: 0.09734829140432733\n",
      "Cost after iteration 3100: 0.09678773284603598\n",
      "Cost after iteration 3200: 0.09626573145929981\n",
      "Cost after iteration 3300: 0.09579574180714429\n",
      "Cost after iteration 3400: 0.09533821067152372\n",
      "Cost after iteration 3499: 0.0948362959316364\n",
      "0.975\n",
      "0.9934884725662778\n"
     ]
    }
   ],
   "source": [
    "from neural_network import NeuralNetwork\n",
    "\n",
    "n_y = 1\n",
    "layers_dims = (20, 10, n_y)\n",
    "\n",
    "model = NeuralNetwork(layers_dims, random_state=42)\n",
    "model.fit(X_train.T, Y_train, learning_rate=0.05, num_iterations=3500, print_cost=True)\n",
    "\n",
    "print(accuracy_score(Y_test, model.predict(X_test.T)))\n",
    "print(roc_auc_score(Y_test, model.predict_proba(X_test.T)[0,:]))"
   ]
  },
  {
   "cell_type": "code",
   "execution_count": null,
   "id": "29b9deb2-9205-4cb6-8251-254707c84834",
   "metadata": {},
   "outputs": [],
   "source": []
  }
 ],
 "metadata": {
  "kernelspec": {
   "display_name": "Python 3",
   "language": "python",
   "name": "python3"
  },
  "language_info": {
   "codemirror_mode": {
    "name": "ipython",
    "version": 3
   },
   "file_extension": ".py",
   "mimetype": "text/x-python",
   "name": "python",
   "nbconvert_exporter": "python",
   "pygments_lexer": "ipython3",
   "version": "3.8.8"
  }
 },
 "nbformat": 4,
 "nbformat_minor": 5
}
