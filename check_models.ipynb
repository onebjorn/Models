{
 "cells": [
  {
   "cell_type": "code",
   "execution_count": 1,
   "id": "6d792ee1-5f50-44bf-90f7-3dbfc8efc7dd",
   "metadata": {},
   "outputs": [],
   "source": [
    "import numpy as np\n",
    "import numpy as np\n",
    "import copy\n",
    "from sklearn.datasets import make_classification\n",
    "from sklearn.model_selection import train_test_split\n",
    "from sklearn.metrics import accuracy_score, roc_auc_score\n",
    "from logistic_regression import LogisticRegression"
   ]
  },
  {
   "cell_type": "code",
   "execution_count": 36,
   "id": "ae75acc6-3493-45ab-a1d3-9a3678423cec",
   "metadata": {},
   "outputs": [],
   "source": [
    "X_data, y_data = make_classification(\n",
    "    n_samples=10000, n_features=20, \n",
    "    n_classes=2, n_informative=20, \n",
    "    n_redundant=0, random_state=42\n",
    ")\n",
    "\n",
    "X_train, X_test, Y_train, Y_test = train_test_split(X_data, y_data, test_size=0.2, random_state=42)"
   ]
  },
  {
   "cell_type": "code",
   "execution_count": 37,
   "id": "7c7602a7-bfcc-4520-9af8-d51c685ff2f6",
   "metadata": {},
   "outputs": [
    {
     "name": "stdout",
     "output_type": "stream",
     "text": [
      "0.796\n",
      "0.878645170258791\n"
     ]
    }
   ],
   "source": [
    "from logistic_regression import LogisticRegression\n",
    "\n",
    "\n",
    "model = LogisticRegression(learning_rate=0.07, num_iterations=350)\n",
    "model.fit(X_train.T, Y_train)\n",
    "\n",
    "print(accuracy_score(Y_test, model.predict(X_test.T)[0]))\n",
    "print(roc_auc_score(Y_test, model.predict_proba(X_test.T)[0]))"
   ]
  },
  {
   "cell_type": "code",
   "execution_count": 27,
   "id": "6436fb40-585d-45b6-8f46-fb95da9d99fd",
   "metadata": {},
   "outputs": [
    {
     "name": "stdout",
     "output_type": "stream",
     "text": [
      "0.88\n",
      "0.9496359205095612\n"
     ]
    }
   ],
   "source": [
    "from sklearn.ensemble import RandomForestClassifier\n",
    "\n",
    "\n",
    "model = RandomForestClassifier(max_depth=5, n_estimators=100)\n",
    "model.fit(X_train, Y_train)\n",
    "\n",
    "print(accuracy_score(Y_test, model.predict(X_test)))\n",
    "print(roc_auc_score(Y_test, model.predict_proba(X_test)[:, 0]))"
   ]
  },
  {
   "cell_type": "code",
   "execution_count": 35,
   "id": "3bd22973-979d-4ac6-bfa3-214ebfe3dc36",
   "metadata": {},
   "outputs": [
    {
     "name": "stdout",
     "output_type": "stream",
     "text": [
      "0.908\n",
      "0.028985347813172857\n"
     ]
    }
   ],
   "source": [
    "from gb import GradientBoostingClassifier\n",
    "\n",
    "model = GradientBoostingClassifier({'max_depth': 7}, learning_rate=0.07, n_iterations=100)\n",
    "model.fit(X_train, Y_train)\n",
    "\n",
    "print(accuracy_score(Y_test, model.predict(X_test)))\n",
    "print(1 - roc_auc_score(Y_test, model.predict_proba(X_test)))"
   ]
  },
  {
   "cell_type": "code",
   "execution_count": 34,
   "id": "00d92d22-5874-471d-8578-fc8e9b89a7c2",
   "metadata": {},
   "outputs": [
    {
     "name": "stdout",
     "output_type": "stream",
     "text": [
      "0.9735\n",
      "0.9944275486314391\n"
     ]
    }
   ],
   "source": [
    "from catboost import CatBoostClassifier\n",
    "\n",
    "model = CatBoostClassifier(max_depth=7, n_estimators=100, verbose=False)\n",
    "model.fit(X_train, Y_train)\n",
    "\n",
    "print(accuracy_score(Y_test, model.predict(X_test)))\n",
    "print(1 - roc_auc_score(Y_test, model.predict_proba(X_test)[:, 0]))"
   ]
  },
  {
   "cell_type": "code",
   "execution_count": null,
   "id": "020ab361-34db-474e-bfd2-81fe19695a03",
   "metadata": {},
   "outputs": [],
   "source": []
  }
 ],
 "metadata": {
  "kernelspec": {
   "display_name": "Python 3",
   "language": "python",
   "name": "python3"
  },
  "language_info": {
   "codemirror_mode": {
    "name": "ipython",
    "version": 3
   },
   "file_extension": ".py",
   "mimetype": "text/x-python",
   "name": "python",
   "nbconvert_exporter": "python",
   "pygments_lexer": "ipython3",
   "version": "3.8.8"
  }
 },
 "nbformat": 4,
 "nbformat_minor": 5
}
